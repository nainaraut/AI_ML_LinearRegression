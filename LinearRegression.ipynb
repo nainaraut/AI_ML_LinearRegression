{
 "cells": [
  {
   "cell_type": "code",
   "execution_count": 4,
   "id": "f99080b6",
   "metadata": {},
   "outputs": [
    {
     "name": "stdout",
     "output_type": "stream",
     "text": [
      "epoch: 1, loss: 5734.2012\n",
      "epoch: 101, loss: 556.8454\n",
      "epoch: 201, loss: 342.3051\n",
      "epoch: 301, loss: 332.9979\n",
      "epoch: 401, loss: 332.5867\n",
      "epoch: 501, loss: 332.5684\n",
      "epoch: 601, loss: 332.5676\n",
      "epoch: 701, loss: 332.5675\n",
      "epoch: 801, loss: 332.5676\n",
      "epoch: 901, loss: 332.5676\n"
     ]
    },
    {
     "data": {
      "text/plain": [
       "[<matplotlib.lines.Line2D at 0x14e75cf10>]"
      ]
     },
     "execution_count": 4,
     "metadata": {},
     "output_type": "execute_result"
    },
    {
     "data": {
      "image/png": "[encoded data removed]",
      "text/plain": [
       "<Figure size 432x288 with 1 Axes>"
      ]
     },
     "metadata": {
      "needs_background": "light"
     },
     "output_type": "display_data"
    }
   ],
   "source": [
    "### Linear regression model\n",
    "import torch\n",
    "import numpy as np\n",
    "import torch.nn as nn\n",
    "from sklearn import datasets\n",
    "import matplotlib.pyplot as ply\n",
    "\n",
    "#----------------------\n",
    "# 0. prepare data\n",
    "#----------------------\n",
    "X_numpy, Y_numpy = datasets.make_regression(n_samples=100,n_features=1,noise=20,random_state=1)\n",
    "# convert from numpy to tensor\n",
    "X = torch.from_numpy(X_numpy.astype(np.float32)) \n",
    "Y = torch.from_numpy(Y_numpy.astype(np.float32))\n",
    "#reshape the tensor \n",
    "Y = Y.view(Y.shape[0], 1) \n",
    "n_samples, n_features = X.shape\n",
    "\n",
    "#----------------------\n",
    "# 1. build model\n",
    "#----------------------\n",
    "input_size = n_features\n",
    "output_size = 1\n",
    "model = nn.Linear(input_size, output_size)\n",
    "\n",
    "#----------------------\n",
    "# 2. loss and optimizer\n",
    "#----------------------\n",
    "learning_rate = 0.01\n",
    "# Loss = Mean squared error\n",
    "criterion = nn.MSELoss()\n",
    "# gradient = SGD(Sarcastic gradient decent)\n",
    "optimizer = torch.optim.SGD(model.parameters(), lr=learning_rate)\n",
    "\n",
    "#----------------------\n",
    "# 3. training loop\n",
    "#----------------------\n",
    "num_epoch = 1000\n",
    "for epoch in range(num_epoch):\n",
    "    # forward pass\n",
    "    y_predicted = model(X)\n",
    "    loss = criterion(y_predicted, Y)\n",
    "    \n",
    "    # backward pass\n",
    "    loss.backward()\n",
    "    \n",
    "    # weight updates\n",
    "    optimizer.step()\n",
    "    \n",
    "    # empty the gradiant for next iteration\n",
    "    optimizer.zero_grad()\n",
    "    \n",
    "    if epoch%100 == 0:\n",
    "        print(f'epoch: {epoch+1}, loss: {loss.item():.4f}')\n",
    "        \n",
    "\n",
    "#Plot \n",
    "predicted = model(X).detach().numpy() # detach to detach the gradiant attribute from the tensor\n",
    "ply.plot(X_numpy, Y_numpy, 'ro')\n",
    "ply.plot(X_numpy, predicted, 'b')\n",
    "\n",
    "    \n",
    "\n"
   ]
  },
  {
   "cell_type": "code",
   "execution_count": null,
   "id": "c30e676d",
   "metadata": {},
   "outputs": [],
   "source": []
  },
  {
   "cell_type": "code",
   "execution_count": null,
   "id": "d0c16ebc",
   "metadata": {},
   "outputs": [],
   "source": []
  }
 ],
 "metadata": {
  "kernelspec": {
   "display_name": "Python 3 (ipykernel)",
   "language": "python",
   "name": "python3"
  },
  "language_info": {
   "codemirror_mode": {
    "name": "ipython",
    "version": 3
   },
   "file_extension": ".py",
   "mimetype": "text/x-python",
   "name": "python",
   "nbconvert_exporter": "python",
   "pygments_lexer": "ipython3",
   "version": "3.9.16"
  }
 },
 "nbformat": 4,
 "nbformat_minor": 5
}
